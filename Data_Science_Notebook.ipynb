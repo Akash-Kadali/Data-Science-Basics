{
 "cells": [
  {
   "cell_type": "markdown",
   "id": "a60f933b",
   "metadata": {},
   "source": [
    "<center>\n",
    "    <img src=\"https://cf-courses-data.s3.us.cloud-object-storage.appdomain.cloud/IBMDeveloperSkillsNetwork-DS0105EN-SkillsNetwork/labs/Module2/images/SN_web_lightmode.png\" width=\"300\" alt=\"cognitiveclass.ai logo\">\n",
    "</center>"
   ]
  },
  {
   "cell_type": "markdown",
   "id": "59665a22",
   "metadata": {},
   "source": [
    "# Data Science In My Way\n",
    "##### Introduction - In this Notebook, I would be summarizing the Data Science Languages, Tools and Libriaries."
   ]
  },
  {
   "cell_type": "markdown",
   "id": "297e227a",
   "metadata": {},
   "source": [
    "*These are the popular Languages Data Scientists would be using in present Day*\n",
    "* *Python*\n",
    "* *R*\n",
    "* *SQL* \n",
    "* *Scala*"
   ]
  },
  {
   "cell_type": "markdown",
   "id": "ed7f2db3",
   "metadata": {},
   "source": [
    "*These are the popular Languages Data Science Libraries*\n",
    "* *Pandas*\n",
    "* *Numpy*\n",
    "* *SciPy* \n",
    "* *Matplotlib*\n",
    "* *PyTorch*\n",
    "* *Tensorflow*\n",
    "* *Keras* \n",
    "* *SciKit Learn*"
   ]
  },
  {
   "cell_type": "markdown",
   "id": "e76477dd",
   "metadata": {},
   "source": [
    "*These are the popular Languages Data Science tools* "
   ]
  },
  {
   "cell_type": "markdown",
   "id": "4bdc558b",
   "metadata": {},
   "source": [
    "| Serial No. | Data Science Tools | About |\n",
    "| --- | --- | --- |\n",
    "| 1 | RStudio | RStudio is one of the most well-known open-source tools for data scientists. RStudio is also compatible with Python, another open-source programming language, and it includes several open-source software products including RStudio Desktop, RStudio Server, Shiny Server, and the many R packages that can be downloaded onto a hard drive or used within a web browser or applications. |\n",
    "| --- | --- | --- |\n",
    "|2 | Apache Spark | Apache Spark is an engine that is primarily used with SQL. Offering the unique feature of working with distributed datasets, data-frames, and Apache-specific algorithms, this tool is useful to data scientists who are interested in machine learning and text mining.|\n",
    "| --- | --- | --- |\n",
    "|3 | TensorFlow | TensorFlow offers several resources to data scientists that want to train and build models and recommendation systems, as well as work with artificial intelligence. |\n",
    "| --- | --- | --- |\n",
    "|4 | Apache Hadoop | Hadoop operates using the Java programming language and includes its own community of unique users. Hadoop is a software library that includes a variety of large-scale datasets that can be accessed from one or multiple computers at the same time. Due to this fact, Apache Hadoop is a great tool for data scientists that are working collaboratively on a project or as part of a team|\n",
    "| --- | --- | --- |\n",
    "|5 | ggplot2 | ggplot2 is an advanced data visualization package for the R programming language. The developers created this tool to replace the native graphics package of R and it uses powerful commands to create illustrious visualizations.|\n",
    "| --- | --- | --- |\n",
    "|6 | Jupyter | Jupyter is an open-source tool based on IPython for helping developers in making open-source software and experiences interactive computing. Jupyter supports multiple languages like Julia, Python, and R. It is a web-application tool used for writing live code, visualizations, and presentations. Jupyter is a widely popular tool that is designed to address the requirements of Data Science.|"
   ]
  },
  {
   "cell_type": "markdown",
   "id": "aade401f",
   "metadata": {},
   "source": [
    "### The Below are Examples of Arithmetic Calculations in Python"
   ]
  },
  {
   "cell_type": "markdown",
   "id": "820720ad",
   "metadata": {},
   "source": [
    "#### This a simple arithmetic expression to find Average of two Numbers"
   ]
  },
  {
   "cell_type": "code",
   "execution_count": 6,
   "id": "9bd0c51e",
   "metadata": {},
   "outputs": [
    {
     "name": "stdout",
     "output_type": "stream",
     "text": [
      "34.5\n"
     ]
    }
   ],
   "source": [
    "a = 13\n",
    "b = 56\n",
    "c = (a + b)/2 \n",
    "print(c)"
   ]
  },
  {
   "cell_type": "markdown",
   "id": "ad8c1d05",
   "metadata": {},
   "source": [
    "#### The Code Below will be converting Minutes to Hours"
   ]
  },
  {
   "cell_type": "code",
   "execution_count": 9,
   "id": "ebd90dd4",
   "metadata": {},
   "outputs": [
    {
     "name": "stdout",
     "output_type": "stream",
     "text": [
      "Enter No. of Minutes to convert to Hours\n",
      "300\n",
      "No. of Hours is 5\n"
     ]
    }
   ],
   "source": [
    "print(\"Enter No. of Minutes to convert to Hours\")\n",
    "a = int(input())\n",
    "b = a/60\n",
    "print(\"No. of Hours is\", int(b))"
   ]
  },
  {
   "cell_type": "markdown",
   "id": "b425b905",
   "metadata": {},
   "source": [
    "#### Here are the Objectives of Python/Jupyter Notebook:\n",
    "*In this Notebook I have discussed following Things*\n",
    "* Popular Languages of Data Scientists\n",
    "* Popular Libraries of Data Scientists\n",
    "** *Pandas*\n",
    "** *Numpy*\n",
    "** *SciPy* \n",
    "** *Matplotlib*\n",
    "** *PyTorch*\n",
    "** *Tensorflow*\n",
    "** *Keras* \n",
    "** *SciKit Learn*\n",
    "* Popular Tools of Data Scientists, few are Open Source, few are Cloud based and few are Paid\n",
    "* Code to find average of Two Numbers\n",
    "* Code to convert Minutes to Hours \n"
   ]
  },
  {
   "cell_type": "markdown",
   "id": "733dda45",
   "metadata": {},
   "source": [
    "## Author \n",
    "#### *Akash Kadali*"
   ]
  },
  {
   "cell_type": "code",
   "execution_count": null,
   "id": "076d9db8",
   "metadata": {},
   "outputs": [],
   "source": []
  }
 ],
 "metadata": {
  "kernelspec": {
   "display_name": "Python 3 (ipykernel)",
   "language": "python",
   "name": "python3"
  },
  "language_info": {
   "codemirror_mode": {
    "name": "ipython",
    "version": 3
   },
   "file_extension": ".py",
   "mimetype": "text/x-python",
   "name": "python",
   "nbconvert_exporter": "python",
   "pygments_lexer": "ipython3",
   "version": "3.9.13"
  }
 },
 "nbformat": 4,
 "nbformat_minor": 5
}
